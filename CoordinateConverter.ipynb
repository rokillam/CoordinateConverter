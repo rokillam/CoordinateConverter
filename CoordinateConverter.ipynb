{
 "cells": [
  {
   "cell_type": "code",
   "execution_count": 8,
   "id": "b436b96b",
   "metadata": {},
   "outputs": [
    {
     "name": "stdout",
     "output_type": "stream",
     "text": [
      "Enter coordinates here: 42°12'43.44\"N, 71° 6'58.18\"W\n"
     ]
    },
    {
     "data": {
      "text/plain": [
       "(42.21206666666667, -71.11616111111111)"
      ]
     },
     "execution_count": 8,
     "metadata": {},
     "output_type": "execute_result"
    }
   ],
   "source": [
    "mylist1 = []\n",
    "var1, var2 = [str(x) for x in input(\"Enter coordinates here: \").split(\",\")]\n",
    "dms_lat = var1\n",
    "dms_long = var2\n",
    "\n",
    "dms_lat = dms_lat.replace(\"°\", \",\").replace(\"\\'\", \",\").replace(\"\\\"\", \",\").replace(\" \", \"\")\n",
    "dms_long = dms_long.replace(\"°\", \",\").replace(\"\\'\", \",\").replace(\"\\\"\", \",\").replace(\" \", \"\")\n",
    "\n",
    "mylist1.append(dms_lat)\n",
    "mylist1.append(dms_long)\n",
    "\n",
    "mylist2 = []\n",
    "\n",
    "for item in mylist1:\n",
    "    sub_items = item.split(\",\")\n",
    "    mylist2.extend(sub_items)\n",
    "\n",
    "degrees_lat = float(mylist2[0])\n",
    "minutes_lat = float(mylist2[1])\n",
    "seconds_lat = float(mylist2[2])\n",
    "degrees_long = float(mylist2[4])\n",
    "minutes_long = float(mylist2[5])\n",
    "seconds_long = float(mylist2[6])\n",
    "dir_lat = str(mylist2[3])\n",
    "dir_long = str(mylist2[7])\n",
    "\n",
    "if dir_lat == \"N\":\n",
    "    direction_lat = 1\n",
    "elif dir_lat == \"S\":\n",
    "    direction_lat = -1\n",
    "else:\n",
    "    direction_lat = 1\n",
    "\n",
    "if dir_long == \"E\":\n",
    "    direction_long = 1\n",
    "elif dir_long == \"W\":\n",
    "    direction_long = -1\n",
    "else:\n",
    "    direction_long = 1\n",
    "    \n",
    "dd_lat = direction_lat * (degrees_lat + (minutes_lat / 60) + (seconds_lat / 3600))\n",
    "dd_long = direction_long * (degrees_long + (minutes_long / 60) + (seconds_long / 3600))\n",
    "\n",
    "dd_lat, dd_long\n"
   ]
  },
  {
   "cell_type": "code",
   "execution_count": null,
   "id": "0371e81c",
   "metadata": {},
   "outputs": [],
   "source": []
  },
  {
   "cell_type": "code",
   "execution_count": null,
   "id": "e8908caa",
   "metadata": {},
   "outputs": [],
   "source": []
  }
 ],
 "metadata": {
  "kernelspec": {
   "display_name": "Python 3 (ipykernel)",
   "language": "python",
   "name": "python3"
  },
  "language_info": {
   "codemirror_mode": {
    "name": "ipython",
    "version": 3
   },
   "file_extension": ".py",
   "mimetype": "text/x-python",
   "name": "python",
   "nbconvert_exporter": "python",
   "pygments_lexer": "ipython3",
   "version": "3.11.4"
  }
 },
 "nbformat": 4,
 "nbformat_minor": 5
}
